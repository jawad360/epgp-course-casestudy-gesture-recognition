{
 "cells": [
  {
   "cell_type": "markdown",
   "metadata": {},
   "source": [
    "# Gesture Recognition\n",
    "In this group project, you are going to build a 3D Conv model that will be able to predict the 5 gestures correctly. Please import the following libraries to get started. Once you have completed the code you can download the notebook for making a submission."
   ]
  },
  {
   "cell_type": "code",
   "execution_count": 1,
   "metadata": {},
   "outputs": [],
   "source": [
    "import numpy as np\n",
    "import os\n",
    "from imageio import imread\n",
    "from skimage.transform import resize\n",
    "import datetime\n",
    "import os\n",
    "import matplotlib.pyplot as plt"
   ]
  },
  {
   "cell_type": "markdown",
   "metadata": {},
   "source": [
    "We set the random seed so that the results don't vary drastically."
   ]
  },
  {
   "cell_type": "code",
   "execution_count": 37,
   "metadata": {},
   "outputs": [],
   "source": [
    "np.random.seed(30)\n",
    "import random as rn\n",
    "rn.seed(30)\n",
    "from tensorflow import keras\n",
    "import tensorflow as tf\n",
    "tf.random.set_seed(30)"
   ]
  },
  {
   "cell_type": "markdown",
   "metadata": {},
   "source": [
    "In this block, you read the folder names for training and validation. You also set the `batch_size` here. Note that you set the batch size in such a way that you are able to use the GPU in full capacity. You keep increasing the batch size until the machine throws an error."
   ]
  },
  {
   "cell_type": "markdown",
   "metadata": {},
   "source": [
    "**data path: /home/datasets/Project_data**"
   ]
  },
  {
   "cell_type": "code",
   "execution_count": 38,
   "metadata": {},
   "outputs": [],
   "source": [
    "train_doc = np.random.permutation(open('/home/datasets/Project_data/train.csv').readlines())\n",
    "val_doc = np.random.permutation(open('/home/datasets/Project_data/val.csv').readlines())"
   ]
  },
  {
   "cell_type": "code",
   "execution_count": 39,
   "metadata": {},
   "outputs": [],
   "source": [
    "batch_size = 25\n",
    "img_width = 120\n",
    "img_height = 120"
   ]
  },
  {
   "cell_type": "markdown",
   "metadata": {},
   "source": [
    "## Generator\n",
    "This is one of the most important part of the code. The overall structure of the generator has been given. In the generator, you are going to preprocess the images as you have images of 2 different dimensions as well as create a batch of video frames. You have to experiment with `img_idx`, `y`,`z` and normalization such that you get high accuracy."
   ]
  },
  {
   "cell_type": "code",
   "execution_count": 40,
   "metadata": {},
   "outputs": [],
   "source": [
    "def generator(source_path, folder_list, batch_size):\n",
    "\n",
    "#     Let's start from the 5th frame and go until the 25th frame as the initial and last frame might not contain important\n",
    "#     information. Also let's take alternate of these frame. So in total we are considering (25 - 5) / 2 = 10 frames of each video\n",
    "    img_idx = range(5, 26, 2)\n",
    "    \n",
    "    while True:\n",
    "#         Shuffling the video to pick a random video, as the videos are arranged with respective to their categories\n",
    "        t = np.random.permutation(folder_list)\n",
    "\n",
    "#     There will be two batches one complete, whose size is equal to `batch_size`. Another batch will be incomplete which will\n",
    "# contain all the left over images\n",
    "\n",
    "# Processing for complete batch\n",
    "        num_batches = len(t) // batch_size\n",
    "        \n",
    "        # we iterate over the number of batches\n",
    "        for batch in range(num_batches):\n",
    "            \n",
    "            batch_data = np.zeros((batch_size, len(img_idx), img_width, img_height, 3))\n",
    "            batch_labels = np.zeros((batch_size, 5))\n",
    "            \n",
    "            # iterate over the batch_size\n",
    "            for folder in range(batch_size):\n",
    "                \n",
    "                # read all the images in the folder\n",
    "                imgs = os.listdir(source_path + '/' + t[folder + (batch * batch_size)].split(';')[0])\n",
    "                \n",
    "                #  Iterate over the frames/images of a folder to read them in\n",
    "                for idx, item in enumerate(img_idx):\n",
    "                    # Get the single image\n",
    "                    image = imread(source_path + '/'+ t[folder + (batch * batch_size)].strip().split(';')[0] + '/' + imgs[item]).astype(np.float32)\n",
    "                    \n",
    "                    #crop the images and resize them. Note that the images are of 2 different shape \n",
    "                    #and the conv3D will throw error if the inputs in a batch have different shapes\n",
    "                    image_resized = resize(image, (img_width, img_height), anti_aliasing=True)\n",
    "                    \n",
    "                    #normalise and feed in the image\n",
    "                    batch_data[folder, idx, :, :, 0] = image_resized[:, :, 0] / 255.0\n",
    "                    batch_data[folder, idx, :, :, 1] = image_resized[:, :, 1] / 255.0\n",
    "                    batch_data[folder, idx, :, :, 2] = image_resized[:, :, 2] / 255.0\n",
    "                    \n",
    "                # batch_labels are one-hot encoding of the class category\n",
    "                batch_labels[folder, int(t[folder + (batch * batch_size)].strip().split(';')[2])] = 1\n",
    "            yield batch_data, batch_labels #you yield the batch_data and the batch_labels, remember what does yield do\n",
    "            \n",
    "            \n",
    "#             Processing for incomplete batch\n",
    "        pending_sequence = len(t) % batch_size\n",
    "        if(pending_sequence != 0):\n",
    "            \n",
    "            batch_data = np.zeros((pending_sequence, len(img_idx), img_width, img_height, 3))\n",
    "            batch_labels = np.zeros((pending_sequence, 5))\n",
    "            \n",
    "            # iterate over the batch_size\n",
    "            for folder in range(pending_sequence):\n",
    "                \n",
    "                # read all the images in the folder\n",
    "                imgs = os.listdir(source_path + '/' + t[folder + (num_batches * pending_sequence)].split(';')[0])\n",
    "                \n",
    "                #  Iterate over the frames/images of a folder to read them in\n",
    "                for idx, item in enumerate(img_idx):\n",
    "                    # Get the single image\n",
    "                    image = imread(source_path + '/'+ t[folder + (num_batches * pending_sequence)].strip().split(';')[0] + '/' + imgs[item]).astype(np.float32)\n",
    "                    \n",
    "                    #crop the images and resize them. Note that the images are of 2 different shape \n",
    "                    #and the conv3D will throw error if the inputs in a batch have different shapes\n",
    "                    image_resized = resize(image, (img_width, img_height), anti_aliasing=True)\n",
    "                    \n",
    "                    #normalise and feed in the image\n",
    "                    batch_data[folder, idx, :, :, 0] = image_resized[:, :, 0] / 255.0\n",
    "                    batch_data[folder, idx, :, :, 1] = image_resized[:, :, 1] / 255.0\n",
    "                    batch_data[folder, idx, :, :, 2] = image_resized[:, :, 2] / 255.0\n",
    "                    \n",
    "                # batch_labels are one-hot encoding of the class category\n",
    "                batch_labels[folder, int(t[folder + (num_batches * batch_size)].strip().split(';')[2])] = 1\n",
    "            yield batch_data, batch_labels\n",
    "\n",
    "        \n"
   ]
  },
  {
   "cell_type": "markdown",
   "metadata": {},
   "source": [
    "\n",
    "\n",
    "Note here that a video is represented above in the generator as (number of images, height, width, number of channels). Take this into consideration while creating the model architecture."
   ]
  },
  {
   "cell_type": "code",
   "execution_count": 41,
   "metadata": {},
   "outputs": [
    {
     "name": "stdout",
     "output_type": "stream",
     "text": [
      "# training sequences = 663\n",
      "# validation sequences = 100\n",
      "# epochs = 10\n"
     ]
    }
   ],
   "source": [
    "curr_dt_time = datetime.datetime.now()\n",
    "train_path = '/home/datasets/Project_data/train'\n",
    "val_path = '/home/datasets/Project_data/val'\n",
    "num_train_sequences = len(train_doc)\n",
    "print('# training sequences =', num_train_sequences)\n",
    "num_val_sequences = len(val_doc)\n",
    "print('# validation sequences =', num_val_sequences)\n",
    "num_epochs = 10\n",
    "print ('# epochs =', num_epochs)"
   ]
  },
  {
   "cell_type": "markdown",
   "metadata": {},
   "source": [
    "## Model\n",
    "Here you make the model using different functionalities that Keras provides. Remember to use `Conv3D` and `MaxPooling3D` and not `Conv2D` and `Maxpooling2D` for a 3D convolution model. You would want to use `TimeDistributed` while building a Conv2D + RNN model. Also remember that the last layer is the softmax. Design the network in such a way that the model is able to give good accuracy on the least number of parameters so that it can fit in the memory of the webcam."
   ]
  },
  {
   "cell_type": "code",
   "execution_count": 42,
   "metadata": {},
   "outputs": [],
   "source": [
    "from tensorflow.keras.models import Sequential\n",
    "from tensorflow.keras.layers import Dense, GRU, Dropout, Flatten, BatchNormalization, Activation, Conv3D, MaxPooling3D, GlobalAveragePooling3D, TimeDistributed, Conv2D, MaxPooling2D\n",
    "from tensorflow.keras.callbacks import ModelCheckpoint, ReduceLROnPlateau\n",
    "from tensorflow.keras import optimizers"
   ]
  },
  {
   "cell_type": "code",
   "execution_count": 43,
   "metadata": {},
   "outputs": [],
   "source": [
    "# model = Sequential()\n",
    "# model.add(Conv3D(32, kernel_size=3, activation='relu', input_shape=(len(range(5, 26, 2)), img_width, img_height, 3)))\n",
    "# model.add(MaxPooling3D(pool_size=(2, 2, 2)))\n",
    "# model.add(Dropout(0.30))\n",
    "\n",
    "# model.add(Conv3D(64, kernel_size=3, activation='relu'))\n",
    "# model.add(MaxPooling3D(pool_size=(2, 2, 2)))\n",
    "# model.add(Dropout(0.30))\n",
    "\n",
    "# model.add(Conv3D(128, kernel_size=(1,3,3), activation='relu'))\n",
    "# model.add(MaxPooling3D(pool_size=(1, 2, 2)))\n",
    "# model.add(Dropout(0.30))\n",
    "\n",
    "# model.add(Conv3D(256, kernel_size=(1,3,3), activation='relu'))\n",
    "# model.add(MaxPooling3D(pool_size=(1, 2, 2)))\n",
    "# model.add(Dropout(0.30))\n",
    "\n",
    "# model.add(Flatten())\n",
    "# model.add(Dense(128, activation='relu'))\n",
    "# model.add(Dense(5, activation='softmax'))"
   ]
  },
  {
   "cell_type": "code",
   "execution_count": 44,
   "metadata": {},
   "outputs": [],
   "source": [
    "model = Sequential()\n",
    "model.add(TimeDistributed(Conv2D(32, (3,3), activation='relu'), input_shape=(len(range(5, 26, 2)), img_width, img_height, 3)))\n",
    "model.add(TimeDistributed(MaxPooling2D((2,2))))\n",
    "model.add(BatchNormalization())\n",
    "model.add(Dropout(0.30))\n",
    "\n",
    "model.add(TimeDistributed(Conv2D(64, (3,3), activation='relu')))\n",
    "model.add(TimeDistributed(MaxPooling2D((2,2))))\n",
    "model.add(BatchNormalization())\n",
    "model.add(Dropout(0.30))\n",
    "\n",
    "model.add(TimeDistributed(Flatten()))\n",
    "model.add(TimeDistributed(Dense(64, activation='relu')))\n",
    "model.add(BatchNormalization())\n",
    "model.add(Dropout(0.30))\n",
    "\n",
    "model.add(GRU(128))\n",
    "model.add(BatchNormalization())\n",
    "model.add(Dropout(0.30))\n",
    "\n",
    "model.add(Dense(5, activation='softmax'))"
   ]
  },
  {
   "cell_type": "markdown",
   "metadata": {},
   "source": [
    "Now that you have written the model, the next step is to `compile` the model. When you print the `summary` of the model, you'll see the total number of parameters you have to train."
   ]
  },
  {
   "cell_type": "code",
   "execution_count": 45,
   "metadata": {
    "scrolled": true
   },
   "outputs": [
    {
     "name": "stdout",
     "output_type": "stream",
     "text": [
      "Model: \"sequential_7\"\n",
      "_________________________________________________________________\n",
      " Layer (type)                Output Shape              Param #   \n",
      "=================================================================\n",
      " time_distributed_23 (TimeDi  (None, 11, 118, 118, 32)  896      \n",
      " stributed)                                                      \n",
      "                                                                 \n",
      " time_distributed_24 (TimeDi  (None, 11, 59, 59, 32)   0         \n",
      " stributed)                                                      \n",
      "                                                                 \n",
      " batch_normalization_14 (Bat  (None, 11, 59, 59, 32)   128       \n",
      " chNormalization)                                                \n",
      "                                                                 \n",
      " dropout (Dropout)           (None, 11, 59, 59, 32)    0         \n",
      "                                                                 \n",
      " time_distributed_25 (TimeDi  (None, 11, 57, 57, 64)   18496     \n",
      " stributed)                                                      \n",
      "                                                                 \n",
      " time_distributed_26 (TimeDi  (None, 11, 28, 28, 64)   0         \n",
      " stributed)                                                      \n",
      "                                                                 \n",
      " batch_normalization_15 (Bat  (None, 11, 28, 28, 64)   256       \n",
      " chNormalization)                                                \n",
      "                                                                 \n",
      " dropout_1 (Dropout)         (None, 11, 28, 28, 64)    0         \n",
      "                                                                 \n",
      " time_distributed_27 (TimeDi  (None, 11, 50176)        0         \n",
      " stributed)                                                      \n",
      "                                                                 \n",
      " time_distributed_28 (TimeDi  (None, 11, 64)           3211328   \n",
      " stributed)                                                      \n",
      "                                                                 \n",
      " batch_normalization_16 (Bat  (None, 11, 64)           256       \n",
      " chNormalization)                                                \n",
      "                                                                 \n",
      " dropout_2 (Dropout)         (None, 11, 64)            0         \n",
      "                                                                 \n",
      " gru_3 (GRU)                 (None, 128)               74496     \n",
      "                                                                 \n",
      " batch_normalization_17 (Bat  (None, 128)              512       \n",
      " chNormalization)                                                \n",
      "                                                                 \n",
      " dropout_3 (Dropout)         (None, 128)               0         \n",
      "                                                                 \n",
      " dense_7 (Dense)             (None, 5)                 645       \n",
      "                                                                 \n",
      "=================================================================\n",
      "Total params: 3,307,013\n",
      "Trainable params: 3,306,437\n",
      "Non-trainable params: 576\n",
      "_________________________________________________________________\n",
      "None\n"
     ]
    }
   ],
   "source": [
    "optimiser = 'adam'\n",
    "model.compile(optimizer=optimiser, loss='categorical_crossentropy', metrics=['categorical_accuracy'])\n",
    "print (model.summary())"
   ]
  },
  {
   "cell_type": "markdown",
   "metadata": {},
   "source": [
    "Let us create the `train_generator` and the `val_generator` which will be used in `.fit_generator`."
   ]
  },
  {
   "cell_type": "code",
   "execution_count": 46,
   "metadata": {},
   "outputs": [],
   "source": [
    "train_generator = generator(train_path, train_doc, batch_size)\n",
    "val_generator = generator(val_path, val_doc, batch_size)"
   ]
  },
  {
   "cell_type": "code",
   "execution_count": 47,
   "metadata": {},
   "outputs": [],
   "source": [
    "model_name = 'model_init' + '_' + str(curr_dt_time).replace(' ','').replace(':','_') + '/'\n",
    "    \n",
    "if not os.path.exists(model_name):\n",
    "    os.mkdir(model_name)\n",
    "        \n",
    "filepath = model_name + 'model-{epoch:05d}-{loss:.5f}-{categorical_accuracy:.5f}-{val_loss:.5f}-{val_categorical_accuracy:.5f}.h5'\n",
    "\n",
    "checkpoint = ModelCheckpoint(filepath, monitor='val_loss', verbose=1, save_best_only=False, save_weights_only=False, mode='auto',save_freq = num_epochs)\n",
    "\n",
    "LR = ReduceLROnPlateau(monitor='val_categorical_accuracy', \n",
    "    patience=3, \n",
    "    verbose=1, \n",
    "    factor=0.5, \n",
    "    min_lr=0.00001\n",
    ")\n",
    "callbacks_list = [LR]"
   ]
  },
  {
   "cell_type": "markdown",
   "metadata": {},
   "source": [
    "The `steps_per_epoch` and `validation_steps` are used by `fit` method to decide the number of next() calls it need to make."
   ]
  },
  {
   "cell_type": "code",
   "execution_count": 48,
   "metadata": {},
   "outputs": [],
   "source": [
    "if (num_train_sequences%batch_size) == 0:\n",
    "    steps_per_epoch = int(num_train_sequences/batch_size)\n",
    "else:\n",
    "    steps_per_epoch = (num_train_sequences//batch_size) + 1\n",
    "\n",
    "if (num_val_sequences%batch_size) == 0:\n",
    "    validation_steps = int(num_val_sequences/batch_size)\n",
    "else:\n",
    "    validation_steps = (num_val_sequences//batch_size) + 1"
   ]
  },
  {
   "cell_type": "markdown",
   "metadata": {},
   "source": [
    "Let us now fit the model. This will start training the model and with the help of the checkpoints, you'll be able to save the model at the end of each epoch."
   ]
  },
  {
   "cell_type": "code",
   "execution_count": 49,
   "metadata": {},
   "outputs": [
    {
     "name": "stdout",
     "output_type": "stream",
     "text": [
      "Epoch 1/10\n",
      "27/27 [==============================] - 62s 2s/step - loss: 1.5624 - categorical_accuracy: 0.4706 - val_loss: 1.6951 - val_categorical_accuracy: 0.1800 - lr: 0.0010\n",
      "Epoch 2/10\n",
      "27/27 [==============================] - 60s 2s/step - loss: 0.8825 - categorical_accuracy: 0.6637 - val_loss: 1.9631 - val_categorical_accuracy: 0.2000 - lr: 0.0010\n",
      "Epoch 3/10\n",
      "27/27 [==============================] - 58s 2s/step - loss: 0.6493 - categorical_accuracy: 0.7738 - val_loss: 1.9847 - val_categorical_accuracy: 0.1400 - lr: 0.0010\n",
      "Epoch 4/10\n",
      "27/27 [==============================] - 62s 2s/step - loss: 0.4895 - categorical_accuracy: 0.8431 - val_loss: 1.9241 - val_categorical_accuracy: 0.1800 - lr: 0.0010\n",
      "Epoch 5/10\n",
      "27/27 [==============================] - ETA: 0s - loss: 0.3965 - categorical_accuracy: 0.8733\n",
      "Epoch 00005: ReduceLROnPlateau reducing learning rate to 0.0005000000237487257.\n",
      "27/27 [==============================] - 59s 2s/step - loss: 0.3965 - categorical_accuracy: 0.8733 - val_loss: 2.4268 - val_categorical_accuracy: 0.1600 - lr: 0.0010\n",
      "Epoch 6/10\n",
      "27/27 [==============================] - 59s 2s/step - loss: 0.2940 - categorical_accuracy: 0.9367 - val_loss: 2.0723 - val_categorical_accuracy: 0.3500 - lr: 5.0000e-04\n",
      "Epoch 7/10\n",
      "27/27 [==============================] - 60s 2s/step - loss: 0.2949 - categorical_accuracy: 0.9351 - val_loss: 2.3410 - val_categorical_accuracy: 0.3100 - lr: 5.0000e-04\n",
      "Epoch 8/10\n",
      "27/27 [==============================] - 59s 2s/step - loss: 0.2206 - categorical_accuracy: 0.9487 - val_loss: 3.4008 - val_categorical_accuracy: 0.1800 - lr: 5.0000e-04\n",
      "Epoch 9/10\n",
      "27/27 [==============================] - ETA: 0s - loss: 0.2424 - categorical_accuracy: 0.9472\n",
      "Epoch 00009: ReduceLROnPlateau reducing learning rate to 0.0002500000118743628.\n",
      "27/27 [==============================] - 59s 2s/step - loss: 0.2424 - categorical_accuracy: 0.9472 - val_loss: 2.9710 - val_categorical_accuracy: 0.3200 - lr: 5.0000e-04\n",
      "Epoch 10/10\n",
      "27/27 [==============================] - 58s 2s/step - loss: 0.1541 - categorical_accuracy: 0.9653 - val_loss: 3.1764 - val_categorical_accuracy: 0.2200 - lr: 2.5000e-04\n"
     ]
    }
   ],
   "source": [
    "history = model.fit(train_generator, steps_per_epoch=steps_per_epoch, epochs=num_epochs, verbose=1, \n",
    "                    callbacks=callbacks_list, validation_data=val_generator, \n",
    "                    validation_steps=validation_steps, class_weight=None, workers=1, initial_epoch=0)"
   ]
  },
  {
   "cell_type": "code",
   "execution_count": 50,
   "metadata": {},
   "outputs": [
    {
     "data": {
      "image/png": "[encoded data removed]",
      "text/plain": [
       "<Figure size 576x576 with 2 Axes>"
      ]
     },
     "metadata": {
      "needs_background": "light"
     },
     "output_type": "display_data"
    }
   ],
   "source": [
    "acc = history.history['categorical_accuracy']\n",
    "val_acc = history.history['val_categorical_accuracy']\n",
    "\n",
    "loss = history.history['loss']\n",
    "val_loss = history.history['val_loss']\n",
    "\n",
    "epochs_range = range(num_epochs)\n",
    "\n",
    "plt.figure(figsize=(8, 8))\n",
    "plt.subplot(1, 2, 1)\n",
    "plt.plot(epochs_range, acc, label='Training Accuracy')\n",
    "plt.plot(epochs_range, val_acc, label='Validation Accuracy')\n",
    "plt.legend(loc='lower right')\n",
    "plt.title('Training and Validation Accuracy')\n",
    "\n",
    "plt.subplot(1, 2, 2)\n",
    "plt.plot(epochs_range, loss, label='Training Loss')\n",
    "plt.plot(epochs_range, val_loss, label='Validation Loss')\n",
    "plt.legend(loc='upper right')\n",
    "plt.title('Training and Validation Loss')\n",
    "plt.show()"
   ]
  },
  {
   "cell_type": "code",
   "execution_count": null,
   "metadata": {},
   "outputs": [],
   "source": []
  }
 ],
 "metadata": {
  "kernelspec": {
   "display_name": "Python 3 (ipykernel)",
   "language": "python",
   "name": "python3"
  },
  "language_info": {
   "codemirror_mode": {
    "name": "ipython",
    "version": 3
   },
   "file_extension": ".py",
   "mimetype": "text/x-python",
   "name": "python",
   "nbconvert_exporter": "python",
   "pygments_lexer": "ipython3",
   "version": "3.8.10"
  }
 },
 "nbformat": 4,
 "nbformat_minor": 4
}
